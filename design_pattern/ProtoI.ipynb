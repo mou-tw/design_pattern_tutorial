{
 "cells": [
  {
   "cell_type": "code",
   "execution_count": 1,
   "id": "2078e2bf",
   "metadata": {},
   "outputs": [],
   "source": [
    "import copy"
   ]
  },
  {
   "cell_type": "code",
   "execution_count": 40,
   "id": "4570b436",
   "metadata": {},
   "outputs": [],
   "source": [
    "class Iphone:\n",
    "    def __init__(self, name, color):\n",
    "        self.name = name\n",
    "        self.color = color\n",
    "        print(f\"name: {self.name}\\ncolor:{self.color}\")\n",
    "\n",
    "    def __str__(self):\n",
    "        tmp_lst = [f\"{i}:{self.__dict__[i]}\"for i in sorted(self.__dict__.keys())]\n",
    "        return '\\n'.join(tmp_lst)\n",
    "class ProtocloneMachine:\n",
    "    def __init__(self):\n",
    "        self.prototypeDict = dict()\n",
    "    def input_prototype(self, name, prototype):\n",
    "        self.prototypeDict[name] = prototype\n",
    "    def del_prototype(self,name):\n",
    "        del self.prototypeDict[name]\n",
    "    def clone(self, n, **kwargs):\n",
    "        if n not in self.prototypeDict.keys():\n",
    "            raise ValueError('Absence of specific prototype')\n",
    "        cloned_type = copy.deepcopy(self.prototypeDict[n])\n",
    "        print(cloned_type.__dict__)\n",
    "        cloned_type.__dict__.update(**kwargs)\n",
    "        return cloned_type"
   ]
  },
  {
   "cell_type": "code",
   "execution_count": 41,
   "id": "0d17e56c",
   "metadata": {},
   "outputs": [
    {
     "name": "stdout",
     "output_type": "stream",
     "text": [
      "name: ip14\n",
      "color:black\n"
     ]
    }
   ],
   "source": [
    "iphone14 = Iphone('ip14','black')"
   ]
  },
  {
   "cell_type": "code",
   "execution_count": 42,
   "id": "911b00c8",
   "metadata": {},
   "outputs": [
    {
     "name": "stdout",
     "output_type": "stream",
     "text": [
      "color:black\n",
      "name:ip14\n"
     ]
    }
   ],
   "source": [
    "print(iphone14)"
   ]
  },
  {
   "cell_type": "code",
   "execution_count": 43,
   "id": "49254306",
   "metadata": {},
   "outputs": [],
   "source": [
    "protomachine = ProtocloneMachine()"
   ]
  },
  {
   "cell_type": "code",
   "execution_count": 44,
   "id": "c5de8f19",
   "metadata": {},
   "outputs": [],
   "source": [
    "protomachine.input_prototype('IP14',iphone14)"
   ]
  },
  {
   "cell_type": "code",
   "execution_count": 45,
   "id": "5ab33355",
   "metadata": {},
   "outputs": [
    {
     "name": "stdout",
     "output_type": "stream",
     "text": [
      "{'name': 'ip14', 'color': 'black'}\n"
     ]
    }
   ],
   "source": [
    "iphone14_pro = protomachine.clone('IP14',name = 'ip14pro', color='purple' , USB_C = \"YES\"\\\n",
    "                   ,factory = {'case':\"Afact\",'battery':\"Bfact\"})"
   ]
  },
  {
   "cell_type": "code",
   "execution_count": 46,
   "id": "74b6caac",
   "metadata": {},
   "outputs": [
    {
     "name": "stdout",
     "output_type": "stream",
     "text": [
      "color:black\n",
      "name:ip14\n"
     ]
    }
   ],
   "source": [
    "print(iphone14)"
   ]
  },
  {
   "cell_type": "code",
   "execution_count": 48,
   "id": "9742ab35",
   "metadata": {},
   "outputs": [
    {
     "name": "stdout",
     "output_type": "stream",
     "text": [
      "USB_C:YES\n",
      "color:purple\n",
      "factory:{'case': 'Afact', 'battery': 'Bfact'}\n",
      "name:ip14pro\n"
     ]
    }
   ],
   "source": [
    "print(iphone14_pro)"
   ]
  },
  {
   "cell_type": "code",
   "execution_count": null,
   "id": "8a6946a4",
   "metadata": {},
   "outputs": [],
   "source": []
  }
 ],
 "metadata": {
  "kernelspec": {
   "display_name": "Python 3",
   "language": "python",
   "name": "python3"
  },
  "language_info": {
   "codemirror_mode": {
    "name": "ipython",
    "version": 3
   },
   "file_extension": ".py",
   "mimetype": "text/x-python",
   "name": "python",
   "nbconvert_exporter": "python",
   "pygments_lexer": "ipython3",
   "version": "3.8.8"
  }
 },
 "nbformat": 4,
 "nbformat_minor": 5
}
