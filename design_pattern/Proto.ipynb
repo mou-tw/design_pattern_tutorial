{
 "cells": [
  {
   "cell_type": "code",
   "execution_count": 11,
   "id": "e1f2338a",
   "metadata": {},
   "outputs": [],
   "source": [
    "from __future__ import annotations\n",
    "from abc import ABC, abstractmethod"
   ]
  },
  {
   "cell_type": "code",
   "execution_count": 12,
   "id": "e153eabc",
   "metadata": {},
   "outputs": [],
   "source": [
    "class IPhoneFacotry(ABC):\n",
    "    @abstractmethod\n",
    "    def make_iphone(self):\n",
    "        pass\n",
    "    \n",
    "class I14Facotry(IPhoneFacotry):\n",
    "    def make_iphone(self):\n",
    "        print('making I phone 14')\n",
    "        \n",
    "class I13Facotry(IPhoneFacotry):\n",
    "    def make_iphone(self):\n",
    "        print('making I phone 13')"
   ]
  },
  {
   "cell_type": "code",
   "execution_count": 18,
   "id": "a01741d6",
   "metadata": {},
   "outputs": [],
   "source": [
    "def making_iphone(factory: IPhoneFacotry ) -> None:\n",
    "    factory().make_iphone()"
   ]
  },
  {
   "cell_type": "code",
   "execution_count": 19,
   "id": "e9520cd6",
   "metadata": {},
   "outputs": [
    {
     "name": "stdout",
     "output_type": "stream",
     "text": [
      "making I phone 14\n"
     ]
    }
   ],
   "source": [
    "making_iphone(I14Facotry)"
   ]
  },
  {
   "cell_type": "code",
   "execution_count": null,
   "id": "8d4c6021",
   "metadata": {},
   "outputs": [],
   "source": []
  },
  {
   "cell_type": "code",
   "execution_count": null,
   "id": "d195aaf4",
   "metadata": {},
   "outputs": [],
   "source": []
  },
  {
   "cell_type": "code",
   "execution_count": 1,
   "id": "cb8a4ece",
   "metadata": {},
   "outputs": [],
   "source": [
    "import copy"
   ]
  },
  {
   "cell_type": "code",
   "execution_count": 13,
   "id": "37d2df50",
   "metadata": {},
   "outputs": [],
   "source": [
    "a = [1,2,[3,4]]\n",
    "class A():\n",
    "    def __init__(self, v):\n",
    "        self.a = v\n",
    "    def add(self, num):\n",
    "        self.a.append(num)"
   ]
  },
  {
   "cell_type": "code",
   "execution_count": 14,
   "id": "13629614",
   "metadata": {},
   "outputs": [],
   "source": [
    "bb = a.copy()\n",
    "cc = copy.deepcopy(a)"
   ]
  },
  {
   "cell_type": "code",
   "execution_count": 15,
   "id": "99d43477",
   "metadata": {},
   "outputs": [
    {
     "data": {
      "text/plain": [
       "[1, 2, [3, 4]]"
      ]
     },
     "execution_count": 15,
     "metadata": {},
     "output_type": "execute_result"
    }
   ],
   "source": [
    "a"
   ]
  },
  {
   "cell_type": "code",
   "execution_count": 16,
   "id": "43131eeb",
   "metadata": {},
   "outputs": [],
   "source": [
    "bb[2].append(1)"
   ]
  },
  {
   "cell_type": "code",
   "execution_count": 17,
   "id": "c319a394",
   "metadata": {},
   "outputs": [
    {
     "data": {
      "text/plain": [
       "[1, 2, [3, 4, 1]]"
      ]
     },
     "execution_count": 17,
     "metadata": {},
     "output_type": "execute_result"
    }
   ],
   "source": [
    "a"
   ]
  },
  {
   "cell_type": "code",
   "execution_count": 18,
   "id": "8c6367e9",
   "metadata": {},
   "outputs": [
    {
     "data": {
      "text/plain": [
       "[1, 2, [3, 4, 1]]"
      ]
     },
     "execution_count": 18,
     "metadata": {},
     "output_type": "execute_result"
    }
   ],
   "source": [
    "bb"
   ]
  },
  {
   "cell_type": "code",
   "execution_count": 19,
   "id": "f07d24e2",
   "metadata": {},
   "outputs": [],
   "source": [
    "cc[2].append(2)"
   ]
  },
  {
   "cell_type": "code",
   "execution_count": 9,
   "id": "aa797c21",
   "metadata": {},
   "outputs": [],
   "source": [
    "a.append(11)"
   ]
  },
  {
   "cell_type": "code",
   "execution_count": 21,
   "id": "9ccbd9b6",
   "metadata": {},
   "outputs": [
    {
     "data": {
      "text/plain": [
       "[1, 2, [3, 4, 1]]"
      ]
     },
     "execution_count": 21,
     "metadata": {},
     "output_type": "execute_result"
    }
   ],
   "source": [
    "a"
   ]
  },
  {
   "cell_type": "code",
   "execution_count": 22,
   "id": "586b4b61",
   "metadata": {},
   "outputs": [
    {
     "data": {
      "text/plain": [
       "[1, 2, [3, 4, 1]]"
      ]
     },
     "execution_count": 22,
     "metadata": {},
     "output_type": "execute_result"
    }
   ],
   "source": [
    "bb"
   ]
  },
  {
   "cell_type": "code",
   "execution_count": 20,
   "id": "1754974a",
   "metadata": {},
   "outputs": [
    {
     "data": {
      "text/plain": [
       "[1, 2, [3, 4, 2]]"
      ]
     },
     "execution_count": 20,
     "metadata": {},
     "output_type": "execute_result"
    }
   ],
   "source": [
    "cc"
   ]
  },
  {
   "cell_type": "code",
   "execution_count": 23,
   "id": "d3326c68",
   "metadata": {},
   "outputs": [
    {
     "data": {
      "text/plain": [
       "2820737256640"
      ]
     },
     "execution_count": 23,
     "metadata": {},
     "output_type": "execute_result"
    }
   ],
   "source": [
    "id(a)"
   ]
  },
  {
   "cell_type": "code",
   "execution_count": 24,
   "id": "7b02bd14",
   "metadata": {},
   "outputs": [
    {
     "data": {
      "text/plain": [
       "2820737173312"
      ]
     },
     "execution_count": 24,
     "metadata": {},
     "output_type": "execute_result"
    }
   ],
   "source": [
    "id(bb)"
   ]
  },
  {
   "cell_type": "code",
   "execution_count": 25,
   "id": "3190a49d",
   "metadata": {},
   "outputs": [
    {
     "data": {
      "text/plain": [
       "2820737187008"
      ]
     },
     "execution_count": 25,
     "metadata": {},
     "output_type": "execute_result"
    }
   ],
   "source": [
    "id(cc)"
   ]
  },
  {
   "cell_type": "code",
   "execution_count": 27,
   "id": "3983119f",
   "metadata": {},
   "outputs": [
    {
     "data": {
      "text/plain": [
       "140732733335344"
      ]
     },
     "execution_count": 27,
     "metadata": {},
     "output_type": "execute_result"
    }
   ],
   "source": [
    "\n",
    "id(a[0])"
   ]
  },
  {
   "cell_type": "code",
   "execution_count": 29,
   "id": "9d7bfdf9",
   "metadata": {},
   "outputs": [
    {
     "data": {
      "text/plain": [
       "140732733335344"
      ]
     },
     "execution_count": 29,
     "metadata": {},
     "output_type": "execute_result"
    }
   ],
   "source": [
    "id(bb[0])"
   ]
  },
  {
   "cell_type": "code",
   "execution_count": 30,
   "id": "41b52e5c",
   "metadata": {},
   "outputs": [
    {
     "data": {
      "text/plain": [
       "140732733335344"
      ]
     },
     "execution_count": 30,
     "metadata": {},
     "output_type": "execute_result"
    }
   ],
   "source": [
    "id(cc[0])"
   ]
  },
  {
   "cell_type": "code",
   "execution_count": 31,
   "id": "05f2bdf8",
   "metadata": {},
   "outputs": [
    {
     "data": {
      "text/plain": [
       "2820736585408"
      ]
     },
     "execution_count": 31,
     "metadata": {},
     "output_type": "execute_result"
    }
   ],
   "source": [
    "id(a[2])\n"
   ]
  },
  {
   "cell_type": "code",
   "execution_count": 32,
   "id": "4664e26a",
   "metadata": {},
   "outputs": [
    {
     "data": {
      "text/plain": [
       "2820736585408"
      ]
     },
     "execution_count": 32,
     "metadata": {},
     "output_type": "execute_result"
    }
   ],
   "source": [
    "id(bb[2])"
   ]
  },
  {
   "cell_type": "code",
   "execution_count": 33,
   "id": "7aed299c",
   "metadata": {},
   "outputs": [
    {
     "data": {
      "text/plain": [
       "2820737498304"
      ]
     },
     "execution_count": 33,
     "metadata": {},
     "output_type": "execute_result"
    }
   ],
   "source": [
    "id(cc[2])"
   ]
  },
  {
   "cell_type": "code",
   "execution_count": null,
   "id": "58ecbfd0",
   "metadata": {},
   "outputs": [],
   "source": []
  },
  {
   "cell_type": "code",
   "execution_count": null,
   "id": "2d1d8c9c",
   "metadata": {},
   "outputs": [],
   "source": []
  },
  {
   "cell_type": "code",
   "execution_count": null,
   "id": "1103e78b",
   "metadata": {},
   "outputs": [],
   "source": []
  }
 ],
 "metadata": {
  "kernelspec": {
   "display_name": "Python 3",
   "language": "python",
   "name": "python3"
  },
  "language_info": {
   "codemirror_mode": {
    "name": "ipython",
    "version": 3
   },
   "file_extension": ".py",
   "mimetype": "text/x-python",
   "name": "python",
   "nbconvert_exporter": "python",
   "pygments_lexer": "ipython3",
   "version": "3.8.8"
  }
 },
 "nbformat": 4,
 "nbformat_minor": 5
}
