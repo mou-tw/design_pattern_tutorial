{
 "cells": [
  {
   "cell_type": "code",
   "execution_count": 1,
   "id": "453a29d4",
   "metadata": {},
   "outputs": [],
   "source": [
    "import copy"
   ]
  },
  {
   "cell_type": "code",
   "execution_count": 57,
   "id": "e652df0d",
   "metadata": {},
   "outputs": [],
   "source": [
    "class Iphone():\n",
    "    def __init__(self, color, memory_size):\n",
    "        self.color = color\n",
    "        self.memory_size = memory_size\n",
    "    def __str__(self):\n",
    "        tmp_lst = [f\"{i}:{self.__dict__[i]} \" for i in sorted(self.__dict__.keys())]\n",
    "        return ',\\n'.join(tmp_lst)\n",
    "    \n",
    "class PrototypeMachine():\n",
    "    def __init__(self):\n",
    "        self.prototypeDict = dict()\n",
    "    def insert_prototype(self, type_name, obj):\n",
    "        self.prototypeDict[type_name] = obj\n",
    "    def del_prototype(self, type_name):\n",
    "        del self.prototypeDict[type_name] \n",
    "    def clone(self, type_name, **kwargs):\n",
    "        if type_name not in self.prototypeDict.keys():\n",
    "            raise ValueError('Not exists')\n",
    "        cloned_p = copy.copy(self.prototypeDict[type_name])\n",
    "        cloned_p.__dict__.update(**kwargs)\n",
    "        return cloned_p"
   ]
  },
  {
   "cell_type": "code",
   "execution_count": 58,
   "id": "9006a09c",
   "metadata": {},
   "outputs": [],
   "source": [
    "iphone14 = Iphone(color='red', memory_size=256)"
   ]
  },
  {
   "cell_type": "code",
   "execution_count": 59,
   "id": "43c63367",
   "metadata": {},
   "outputs": [],
   "source": [
    "p_machine = PrototypeMachine()"
   ]
  },
  {
   "cell_type": "code",
   "execution_count": 61,
   "id": "9331a8ab",
   "metadata": {},
   "outputs": [],
   "source": [
    "p_machine.insert_prototype('IP14',iphone14)"
   ]
  },
  {
   "cell_type": "code",
   "execution_count": 62,
   "id": "2e9b85f7",
   "metadata": {},
   "outputs": [
    {
     "data": {
      "text/plain": [
       "{'IP14': <__main__.Iphone at 0x28d77de2e20>}"
      ]
     },
     "execution_count": 62,
     "metadata": {},
     "output_type": "execute_result"
    }
   ],
   "source": [
    "p_machine.prototypeDict"
   ]
  },
  {
   "cell_type": "code",
   "execution_count": 64,
   "id": "d9de52de",
   "metadata": {},
   "outputs": [],
   "source": [
    "iphone14_pro = p_machine.clone('IP14', color='purple', memory_size=128, factory={'case':\"A FACT\", \"battery\":\"B FACT\"}  )"
   ]
  },
  {
   "cell_type": "code",
   "execution_count": 65,
   "id": "591b6082",
   "metadata": {},
   "outputs": [
    {
     "name": "stdout",
     "output_type": "stream",
     "text": [
      "color:red ,\n",
      "memory_size:256 \n"
     ]
    }
   ],
   "source": [
    "print(iphone14)"
   ]
  },
  {
   "cell_type": "code",
   "execution_count": 66,
   "id": "b313b7ce",
   "metadata": {},
   "outputs": [
    {
     "name": "stdout",
     "output_type": "stream",
     "text": [
      "color:purple ,\n",
      "factory:{'case': 'A FACT', 'battery': 'B FACT'} ,\n",
      "memory_size:128 \n"
     ]
    }
   ],
   "source": [
    "print(iphone14_pro)"
   ]
  },
  {
   "cell_type": "code",
   "execution_count": 67,
   "id": "ebc3ce5d",
   "metadata": {},
   "outputs": [
    {
     "data": {
      "text/plain": [
       "2806624693792"
      ]
     },
     "execution_count": 67,
     "metadata": {},
     "output_type": "execute_result"
    }
   ],
   "source": [
    "id(iphone14)"
   ]
  },
  {
   "cell_type": "code",
   "execution_count": 68,
   "id": "faf8da71",
   "metadata": {},
   "outputs": [
    {
     "data": {
      "text/plain": [
       "2806625734816"
      ]
     },
     "execution_count": 68,
     "metadata": {},
     "output_type": "execute_result"
    }
   ],
   "source": [
    "id(iphone14_pro)"
   ]
  },
  {
   "cell_type": "code",
   "execution_count": null,
   "id": "9d76353d",
   "metadata": {},
   "outputs": [],
   "source": []
  },
  {
   "cell_type": "code",
   "execution_count": null,
   "id": "bb2d682e",
   "metadata": {},
   "outputs": [],
   "source": []
  },
  {
   "cell_type": "markdown",
   "id": "a7ea950b",
   "metadata": {},
   "source": [
    "Singleton"
   ]
  },
  {
   "cell_type": "code",
   "execution_count": 101,
   "id": "92352b9c",
   "metadata": {},
   "outputs": [],
   "source": [
    "class SingletonCls(object):\n",
    "    _instance = []\n",
    "    def __init__(self, color, memory_size=128):\n",
    "        self.color = color\n",
    "        self.memory_size = memory_size\n",
    "    def __str__(self):\n",
    "        tmp_lst = [f\"{i}:{self.__dict__[i]} \" for i in sorted(self.__dict__.keys())]\n",
    "        return ',\\n'.join(tmp_lst)\n",
    "    def __new__(cls, color, memory_size=128):\n",
    "        if not hasattr(cls, '_instance'):\n",
    "            if len(cls._instance) <2:\n",
    "                cls._instance.append(object.__new__(cls))\n",
    "        return cls._instance"
   ]
  },
  {
   "cell_type": "code",
   "execution_count": 102,
   "id": "227a080a",
   "metadata": {},
   "outputs": [],
   "source": [
    "iphone14 = SingletonCls(color='red', memory_size=256)"
   ]
  },
  {
   "cell_type": "code",
   "execution_count": 107,
   "id": "61cb9487",
   "metadata": {},
   "outputs": [],
   "source": [
    "iphone14_pro = SingletonCls(color='blue')"
   ]
  },
  {
   "cell_type": "code",
   "execution_count": 104,
   "id": "9e886de9",
   "metadata": {},
   "outputs": [
    {
     "name": "stdout",
     "output_type": "stream",
     "text": [
      "2806624638768\n",
      "2806624638768\n"
     ]
    }
   ],
   "source": [
    "print(id(iphone14))\n",
    "print(id(iphone14_pro))"
   ]
  },
  {
   "cell_type": "code",
   "execution_count": 105,
   "id": "46711909",
   "metadata": {},
   "outputs": [
    {
     "name": "stdout",
     "output_type": "stream",
     "text": [
      "color:blue ,\n",
      "memory_size:128 \n"
     ]
    }
   ],
   "source": [
    "print(iphone14)"
   ]
  },
  {
   "cell_type": "code",
   "execution_count": 108,
   "id": "6b7e3ff5",
   "metadata": {},
   "outputs": [
    {
     "name": "stdout",
     "output_type": "stream",
     "text": [
      "color:blue ,\n",
      "memory_size:128 \n"
     ]
    }
   ],
   "source": [
    "print(iphone14_pro)"
   ]
  }
 ],
 "metadata": {
  "kernelspec": {
   "display_name": "Python 3",
   "language": "python",
   "name": "python3"
  },
  "language_info": {
   "codemirror_mode": {
    "name": "ipython",
    "version": 3
   },
   "file_extension": ".py",
   "mimetype": "text/x-python",
   "name": "python",
   "nbconvert_exporter": "python",
   "pygments_lexer": "ipython3",
   "version": "3.8.8"
  }
 },
 "nbformat": 4,
 "nbformat_minor": 5
}
