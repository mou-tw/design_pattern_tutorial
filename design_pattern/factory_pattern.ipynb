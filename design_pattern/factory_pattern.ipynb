{
 "cells": [
  {
   "cell_type": "code",
   "execution_count": 41,
   "id": "d07fc95e",
   "metadata": {},
   "outputs": [],
   "source": [
    "from __future__ import annotations\n",
    "from abc import ABC, abstractmethod"
   ]
  },
  {
   "cell_type": "code",
   "execution_count": 42,
   "id": "efce8b06",
   "metadata": {},
   "outputs": [],
   "source": [
    "#simple version\n",
    "class CashPrinter(ABC):\n",
    "    @abstractmethod\n",
    "    def print_cash(self):\n",
    "        pass\n",
    "class USdollarCashPrinter(CashPrinter):\n",
    "    def print_cash(self) -> None:\n",
    "        print('printing US dollars ......')\n",
    "\n",
    "class UKpoundCashPrinter(CashPrinter):\n",
    "    def print_cash(self) -> None:\n",
    "        print('printing UK pounds ......')\n"
   ]
  },
  {
   "cell_type": "code",
   "execution_count": 43,
   "id": "e3c7abf4",
   "metadata": {},
   "outputs": [],
   "source": [
    "def get_printer(cash_type):\n",
    "    printer = None\n",
    "    try:\n",
    "        if cash_type =='usd':\n",
    "            printer = USdollarCashPrinter()\n",
    "        elif cash_type =='ukp':\n",
    "            printer = UKpoundCashPrinter()\n",
    "        else : \n",
    "            raise ValueError('Incorrect cash type')\n",
    "    except ValueError as e :\n",
    "        print(e)        \n",
    "    return printer"
   ]
  },
  {
   "cell_type": "code",
   "execution_count": 44,
   "id": "f39146db",
   "metadata": {},
   "outputs": [
    {
     "name": "stdout",
     "output_type": "stream",
     "text": [
      "printing US dollars ......\n",
      "printing UK pounds ......\n",
      "Incorrect cash type\n"
     ]
    }
   ],
   "source": [
    "a = get_printer('usd')\n",
    "a.print_cash()\n",
    "b = get_printer('ukp')\n",
    "b.print_cash()\n",
    "c = get_printer('non')"
   ]
  },
  {
   "cell_type": "code",
   "execution_count": 45,
   "id": "7e61fdc5",
   "metadata": {},
   "outputs": [],
   "source": [
    "#scalable and restrictable version\n",
    "class MachineCreator(ABC):\n",
    "    @abstractmethod\n",
    "    def create_printer(self):\n",
    "        pass\n",
    "    def start_printing_cash(self):\n",
    "        printer = self.create_printer()\n",
    "        printer.print_cash()\n",
    "class USDPrinterCreator(MachineCreator):\n",
    "    def create_printer(self) -> CashPrinter:\n",
    "        return USdollarCashPrinter()\n",
    "class UKPPrinterCreator(MachineCreator):\n",
    "    def create_printer(self) -> CashPrinter:\n",
    "        return UKpoundCashPrinter()\n"
   ]
  },
  {
   "cell_type": "code",
   "execution_count": 46,
   "id": "ee0dd270",
   "metadata": {},
   "outputs": [],
   "source": [
    "def easing_money(creator : MachineCreator) -> None:\n",
    "    creator.start_printing_cash()"
   ]
  },
  {
   "cell_type": "code",
   "execution_count": 47,
   "id": "fc315c97",
   "metadata": {},
   "outputs": [
    {
     "name": "stdout",
     "output_type": "stream",
     "text": [
      "printing US dollars ......\n",
      "printing UK pounds ......\n"
     ]
    }
   ],
   "source": [
    "easing_money(USDPrinterCreator())\n",
    "easing_money(UKPPrinterCreator())"
   ]
  },
  {
   "cell_type": "code",
   "execution_count": null,
   "id": "04a73ea1",
   "metadata": {},
   "outputs": [],
   "source": []
  },
  {
   "cell_type": "code",
   "execution_count": null,
   "id": "b3ad1e78",
   "metadata": {},
   "outputs": [],
   "source": []
  }
 ],
 "metadata": {
  "kernelspec": {
   "display_name": "Python 3",
   "language": "python",
   "name": "python3"
  },
  "language_info": {
   "codemirror_mode": {
    "name": "ipython",
    "version": 3
   },
   "file_extension": ".py",
   "mimetype": "text/x-python",
   "name": "python",
   "nbconvert_exporter": "python",
   "pygments_lexer": "ipython3",
   "version": "3.8.8"
  }
 },
 "nbformat": 4,
 "nbformat_minor": 5
}
