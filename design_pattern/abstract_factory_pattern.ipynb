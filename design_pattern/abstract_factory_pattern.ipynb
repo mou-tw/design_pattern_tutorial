{
 "cells": [
  {
   "cell_type": "code",
   "execution_count": 1,
   "id": "a7320bf1",
   "metadata": {},
   "outputs": [],
   "source": [
    "from __future__ import annotations\n",
    "from abc import ABC, abstractmethod"
   ]
  },
  {
   "cell_type": "code",
   "execution_count": 2,
   "id": "7216eda6",
   "metadata": {},
   "outputs": [],
   "source": [
    "class CashFactory(ABC):\n",
    "    @abstractmethod\n",
    "    def gen_print_machine(self):\n",
    "        pass\n",
    "    @abstractmethod\n",
    "    def gen_ink(self):\n",
    "        pass\n",
    "    @abstractmethod\n",
    "    def gen_paper(self):\n",
    "        pass\n",
    "class USDFactory(CashFactory):\n",
    "    def gen_print_machine(self) -> Printer :\n",
    "        return USDPrinter\n",
    "    def gen_ink(self) -> Ink :\n",
    "        return Ink_A\n",
    "    def gen_paper(self) -> Paper:\n",
    "        return Paper_A\n",
    "class UKPFactory(CashFactory):\n",
    "    def gen_print_machine(self) -> Printer :\n",
    "        return UKPPrinter\n",
    "    def gen_ink(self) -> Ink :\n",
    "        return Ink_B\n",
    "    def gen_paper(self) -> Paper :\n",
    "        return Paper_B"
   ]
  },
  {
   "cell_type": "code",
   "execution_count": 3,
   "id": "df81e570",
   "metadata": {},
   "outputs": [],
   "source": [
    "class Printer(ABC):\n",
    "    @abstractmethod\n",
    "    def set_materials(self, ink, paper):\n",
    "        pass\n",
    "    @abstractmethod\n",
    "    def print_money(self):\n",
    "        pass\n",
    "class USDPrinter(Printer):\n",
    "    def set_materials(self, ink: Ink, paper:Paper):  \n",
    "        self.ink   = ink()\n",
    "        self.paper = paper()\n",
    "        return self\n",
    "    def print_money(self):\n",
    "        print(f'ink color is {self.ink.color}')\n",
    "        print(f'paper texture is {self.paper.texture}')\n",
    "        print('start printing USD')\n",
    "class UKPPrinter(Printer):\n",
    "    def set_materials(self, ink: Ink, paper:Paper): \n",
    "        self.ink   = ink()\n",
    "        self.paper = paper()\n",
    "        return self\n",
    "    def print_money(self):\n",
    "        print(f'ink color is {self.ink.color}')\n",
    "        print(f'paper texture is {self.paper.texture}')\n",
    "        print('start printing UK pounds / sterling')\n"
   ]
  },
  {
   "cell_type": "code",
   "execution_count": 4,
   "id": "fbf2d8a0",
   "metadata": {},
   "outputs": [],
   "source": [
    "class Ink(ABC):\n",
    "    def __init__(self):\n",
    "        print('prepare ink')\n",
    "class Ink_A(Ink) :\n",
    "    color = 'red'\n",
    "class Ink_B(Ink) :\n",
    "    color = 'blue'\n",
    "class Paper(ABC):\n",
    "    def __init__(self):\n",
    "        print('prepare papers')\n",
    "class Paper_A(Paper):\n",
    "    texture = 'normal'\n",
    "class Paper_B(Paper):\n",
    "    texture = 'excellant'\n",
    "    "
   ]
  },
  {
   "cell_type": "code",
   "execution_count": 5,
   "id": "0738f82a",
   "metadata": {},
   "outputs": [],
   "source": [
    "def easing_money(factory : CashFactory) -> None:\n",
    "    machine = factory().gen_print_machine()\n",
    "    machine = machine()\n",
    "    ink = factory().gen_ink()\n",
    "    paper = factory().gen_paper()\n",
    "    machine.set_materials(ink = ink, paper = paper).print_money()\n",
    "   "
   ]
  },
  {
   "cell_type": "code",
   "execution_count": 6,
   "id": "9924d294",
   "metadata": {},
   "outputs": [
    {
     "name": "stdout",
     "output_type": "stream",
     "text": [
      "prepare ink\n",
      "prepare papers\n",
      "ink color is red\n",
      "paper texture is normal\n",
      "start printing USD\n"
     ]
    }
   ],
   "source": [
    "easing_money(USDFactory)"
   ]
  },
  {
   "cell_type": "code",
   "execution_count": null,
   "id": "c66e8e48",
   "metadata": {},
   "outputs": [],
   "source": []
  }
 ],
 "metadata": {
  "kernelspec": {
   "display_name": "Python 3",
   "language": "python",
   "name": "python3"
  },
  "language_info": {
   "codemirror_mode": {
    "name": "ipython",
    "version": 3
   },
   "file_extension": ".py",
   "mimetype": "text/x-python",
   "name": "python",
   "nbconvert_exporter": "python",
   "pygments_lexer": "ipython3",
   "version": "3.8.8"
  }
 },
 "nbformat": 4,
 "nbformat_minor": 5
}
