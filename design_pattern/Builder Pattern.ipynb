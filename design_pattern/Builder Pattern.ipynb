{
 "cells": [
  {
   "cell_type": "code",
   "execution_count": 1,
   "id": "61c583d4",
   "metadata": {},
   "outputs": [],
   "source": [
    "from __future__ import annotations\n",
    "from abc import ABC, abstractmethod\n",
    "from typing import Any"
   ]
  },
  {
   "cell_type": "code",
   "execution_count": 2,
   "id": "1b3d6656",
   "metadata": {},
   "outputs": [],
   "source": [
    "class Printer(ABC):\n",
    "    def __init__(self) ->None :\n",
    "        self.paras = []\n",
    "    def add(self, ingredient: Any) ->None:\n",
    "        self.paras.append(ingredient)\n"
   ]
  },
  {
   "cell_type": "code",
   "execution_count": 3,
   "id": "8e13fbab",
   "metadata": {},
   "outputs": [],
   "source": [
    "class Factory(ABC):\n",
    "    def __init__(self):\n",
    "        self.reset()\n",
    "    def reset(self) ->None:\n",
    "        self._printer = Printer()\n",
    "        self.set_cash_template()\n",
    "    @property\n",
    "    @abstractmethod\n",
    "    def printer(self) ->None:\n",
    "        pass\n",
    "    @abstractmethod\n",
    "    def set_cash_template(self) ->None:\n",
    "        pass\n",
    "    @abstractmethod\n",
    "    def print_money(self) ->None:\n",
    "        pass\n",
    "    def add_inkA(self):\n",
    "        self._printer.add('Ink A')\n",
    "    def add_inkB(self):\n",
    "        self._printer.add('Ink B')\n",
    "    def add_paperA(self):\n",
    "        self._printer.add('Paper A')\n",
    "    def add_paperB(self):\n",
    "        self._printer.add('Paper B')\n",
    "        \n",
    "class USDFactory(Factory):\n",
    "    @property\n",
    "    def printer(self) -> Printer:\n",
    "        tmp_printer = self._printer\n",
    "        self.reset()\n",
    "        return tmp_printer\n",
    "    def set_cash_template(self) ->None:\n",
    "        self._printer.add('USD_template')\n",
    "        \n",
    "    def print_money(self) -> None:\n",
    "        print(f\"Ingredients: {', '.join(self._printer.paras)}\", end=\"\")\n",
    "        print('\\n'+'start easing USD ....')\n",
    "class UKPFactory(Factory):\n",
    "    @property\n",
    "    def printer(self) -> Printer:\n",
    "        tmp_printer = self._printer\n",
    "        self.reset()\n",
    "        return tmp_printer\n",
    "    def set_cash_template(self) ->None:\n",
    "        self._printer.add('UKP_template')\n",
    "        \n",
    "    def print_money(self) -> None:\n",
    "        print(f\"Ingredients: {', '.join(self._printer.paras)}\", end=\"\")\n",
    "        print('\\n'+'start easing UKD ....')"
   ]
  },
  {
   "cell_type": "code",
   "execution_count": 4,
   "id": "d2f3b903",
   "metadata": {},
   "outputs": [],
   "source": [
    "class Manager:\n",
    "    def __init__(self) ->None:\n",
    "        self._factory = None\n",
    "    \n",
    "    @property\n",
    "    def factory(self) -> Factory:\n",
    "        return self._factory\n",
    "    \n",
    "    @factory.setter\n",
    "    def factory(self, factory: Factory) ->None:\n",
    "        self._factory = factory\n",
    "        \n",
    "    "
   ]
  },
  {
   "cell_type": "code",
   "execution_count": 5,
   "id": "d39b4564",
   "metadata": {},
   "outputs": [],
   "source": [
    "manager = Manager()\n",
    "manager.factory = USDFactory()"
   ]
  },
  {
   "cell_type": "code",
   "execution_count": 6,
   "id": "53c82a81",
   "metadata": {},
   "outputs": [],
   "source": [
    "manager.factory.add_paperA()"
   ]
  },
  {
   "cell_type": "code",
   "execution_count": 7,
   "id": "5b8f3dbf",
   "metadata": {},
   "outputs": [],
   "source": [
    "manager.factory.add_inkA()\n",
    "manager.factory.add_inkB()"
   ]
  },
  {
   "cell_type": "code",
   "execution_count": 8,
   "id": "b4ac323f",
   "metadata": {
    "scrolled": false
   },
   "outputs": [
    {
     "name": "stdout",
     "output_type": "stream",
     "text": [
      "Ingredients: USD_template, Paper A, Ink A, Ink B\n",
      "start easing USD ....\n"
     ]
    }
   ],
   "source": [
    "manager.factory.print_money()"
   ]
  },
  {
   "cell_type": "markdown",
   "id": "142122c5",
   "metadata": {},
   "source": [
    "other type of conceptual code"
   ]
  },
  {
   "cell_type": "code",
   "execution_count": 18,
   "id": "b2e664da",
   "metadata": {},
   "outputs": [],
   "source": [
    "class Manager:\n",
    "    def __init__(self, factory):\n",
    "        self.factory = factory\n",
    "    def __call__(self):        \n",
    "        self.factory.print_money()\n",
    "    \n",
    "    class Factory(ABC):\n",
    "        def __init__(self):\n",
    "            self.reset()\n",
    "        def reset(self) ->None:\n",
    "            self._printer = Printer()\n",
    "            self.set_cash_template()\n",
    "        @property\n",
    "        @abstractmethod\n",
    "        def printer(self) ->None:\n",
    "            pass\n",
    "        @abstractmethod\n",
    "        def set_cash_template(self) ->None:\n",
    "            pass\n",
    "        @abstractmethod\n",
    "        def print_money(self) ->None:\n",
    "            pass\n",
    "        def add_inkA(self):\n",
    "            self._printer.add('Ink A')\n",
    "            return self\n",
    "        def add_inkB(self):\n",
    "            self._printer.add('Ink B')\n",
    "            return self\n",
    "        def add_paperA(self):\n",
    "            self._printer.add('Paper A')\n",
    "            return self\n",
    "        def add_paperB(self):\n",
    "            self._printer.add('Paper B')\n",
    "            return self\n",
    "        def prepare(self):\n",
    "            return Manager(self)\n",
    "    class USDFactory(Factory):\n",
    "        @property\n",
    "        def printer(self) -> Printer:\n",
    "            tmp_printer = self._printer\n",
    "            self.reset()\n",
    "            return tmp_printer\n",
    "        def set_cash_template(self) ->None:\n",
    "            self._printer.add('USD_template')\n",
    "\n",
    "        def print_money(self) -> None:\n",
    "            print(f\"Ingredients: {', '.join(self._printer.paras)}\", end=\"\")\n",
    "            print('\\n'+'start easing USD ....')\n",
    "    class UKPFactory(Factory):\n",
    "        @property\n",
    "        def printer(self) -> Printer:\n",
    "            tmp_printer = self._printer\n",
    "            self.reset()\n",
    "            return tmp_printer\n",
    "        def set_cash_template(self) ->None:\n",
    "            self._printer.add('UKP_template')\n",
    "\n",
    "        def print_money(self) -> None:\n",
    "            print(f\"Ingredients: {', '.join(self._printer.paras)}\", end=\"\")\n",
    "            print('\\n'+'start easing UKD ....')\n",
    "        \n",
    "    class Printer(ABC):\n",
    "        def __init__(self) ->None :\n",
    "            self.paras = []\n",
    "        def add(self, ingredient: Any) ->None:\n",
    "            self.paras.append(ingredient)"
   ]
  },
  {
   "cell_type": "code",
   "execution_count": 21,
   "id": "f02fecb1",
   "metadata": {},
   "outputs": [
    {
     "name": "stdout",
     "output_type": "stream",
     "text": [
      "Ingredients: USD_template, Ink A, Ink B, Paper A\n",
      "start easing USD ....\n"
     ]
    }
   ],
   "source": [
    "Manager.USDFactory().add_inkA().add_inkB().add_paperA().prepare()()"
   ]
  },
  {
   "cell_type": "code",
   "execution_count": null,
   "id": "a85238b0",
   "metadata": {},
   "outputs": [],
   "source": []
  }
 ],
 "metadata": {
  "kernelspec": {
   "display_name": "Python 3",
   "language": "python",
   "name": "python3"
  },
  "language_info": {
   "codemirror_mode": {
    "name": "ipython",
    "version": 3
   },
   "file_extension": ".py",
   "mimetype": "text/x-python",
   "name": "python",
   "nbconvert_exporter": "python",
   "pygments_lexer": "ipython3",
   "version": "3.8.8"
  }
 },
 "nbformat": 4,
 "nbformat_minor": 5
}
