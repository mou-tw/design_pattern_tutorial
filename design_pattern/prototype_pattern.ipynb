{
 "cells": [
  {
   "cell_type": "code",
   "execution_count": 123,
   "id": "a7db1112",
   "metadata": {},
   "outputs": [],
   "source": [
    "import copy\n",
    "from collections import OrderedDict\n",
    "from __future__ import annotations"
   ]
  },
  {
   "cell_type": "code",
   "execution_count": 140,
   "id": "9cdb3673",
   "metadata": {},
   "outputs": [],
   "source": [
    "class Iphone:\n",
    "    def __init__(self,name, color, weight, memoryGB, **kwargs):\n",
    "        self.name = name\n",
    "        self.color = color\n",
    "        self.weight = weight\n",
    "        self.memoryGB = memoryGB\n",
    "        self.__dict__.update(kwargs)\n",
    "    def __str__(self):\n",
    "               \n",
    "        keys = sorted(self.__dict__.keys())\n",
    "        tmp_lst = [f\"{i}:{self.__dict__[i]}\" for i in keys]\n",
    "        return ',\\n'.join(tmp_lst)\n",
    "        \n",
    "        \n",
    "        \n",
    "class Prototype():\n",
    "    def __init__(self):\n",
    "        self.prototypeDict = dict()\n",
    "    def set_prototype(self, name, prototypecls):\n",
    "        self.prototypeDict[name] = prototypecls\n",
    "    def drop_prototype(self, name):\n",
    "        del self.prototypeDict[name]\n",
    "    def clone(self, name, **kwargs):\n",
    "        if name not in self.prototypeDict.keys():\n",
    "            raise ValueError('Unset prototype')\n",
    "        cp_prototype = copy.deepcopy(self.prototypeDict[name])\n",
    "        cp_prototype.__dict__.update(**kwargs)\n",
    "        print(cp_prototype)\n",
    "        return cp_prototype\n",
    "        \n",
    "        "
   ]
  },
  {
   "cell_type": "code",
   "execution_count": 141,
   "id": "609193e4",
   "metadata": {},
   "outputs": [],
   "source": [
    "Iphone14_p =  Iphone(name='iphone14', color = 'purple', weight=200, memoryGB=128, designer = 'Mozen', factory= {'case':'A','battery':'B'} )"
   ]
  },
  {
   "cell_type": "code",
   "execution_count": 142,
   "id": "ac94faac",
   "metadata": {},
   "outputs": [],
   "source": [
    "prototype = Prototype()"
   ]
  },
  {
   "cell_type": "code",
   "execution_count": 143,
   "id": "02e40cd5",
   "metadata": {},
   "outputs": [],
   "source": [
    "prototype.set_prototype('iphone', Iphone14_p)"
   ]
  },
  {
   "cell_type": "code",
   "execution_count": 144,
   "id": "81d13b96",
   "metadata": {},
   "outputs": [
    {
     "data": {
      "text/plain": [
       "{'iphone': <__main__.Iphone at 0x2143b4ee760>}"
      ]
     },
     "execution_count": 144,
     "metadata": {},
     "output_type": "execute_result"
    }
   ],
   "source": [
    "prototype.prototypeDict"
   ]
  },
  {
   "cell_type": "code",
   "execution_count": 146,
   "id": "98da0fa2",
   "metadata": {},
   "outputs": [
    {
     "name": "stdout",
     "output_type": "stream",
     "text": [
      "color:purple,\n",
      "designer:Mozen,\n",
      "factory:{'case': 'A', 'battery': 'B'},\n",
      "memoryGB:128,\n",
      "name:iphone14,\n",
      "weight:200\n"
     ]
    }
   ],
   "source": [
    "print(Iphone14_p)"
   ]
  },
  {
   "cell_type": "code",
   "execution_count": 147,
   "id": "3e51adad",
   "metadata": {},
   "outputs": [
    {
     "name": "stdout",
     "output_type": "stream",
     "text": [
      "USB:NO,\n",
      "color:purple,\n",
      "designer:Alex,\n",
      "factory:{'case': 'A', 'battery': 'B'},\n",
      "memoryGB:128,\n",
      "name:iphone14,\n",
      "weight:200\n"
     ]
    }
   ],
   "source": [
    "print(Iphone14_p_pro)"
   ]
  },
  {
   "cell_type": "code",
   "execution_count": null,
   "id": "0f50ed5e",
   "metadata": {},
   "outputs": [],
   "source": []
  }
 ],
 "metadata": {
  "kernelspec": {
   "display_name": "Python 3",
   "language": "python",
   "name": "python3"
  },
  "language_info": {
   "codemirror_mode": {
    "name": "ipython",
    "version": 3
   },
   "file_extension": ".py",
   "mimetype": "text/x-python",
   "name": "python",
   "nbconvert_exporter": "python",
   "pygments_lexer": "ipython3",
   "version": "3.8.8"
  }
 },
 "nbformat": 4,
 "nbformat_minor": 5
}
