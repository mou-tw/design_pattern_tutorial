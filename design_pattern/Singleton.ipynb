{
 "cells": [
  {
   "cell_type": "code",
   "execution_count": 23,
   "id": "cabdc647",
   "metadata": {},
   "outputs": [],
   "source": [
    "class ShowCls():\n",
    "    __instance = False\n",
    "    def __init__(self,*arg):\n",
    "        print('init....')\n",
    "        print(arg)\n",
    "    def __new__(cls, *arg):\n",
    "        print('new.....')\n",
    "        print(arg)\n",
    "        return object.__new__(cls)\n",
    "class NonSingleton:\n",
    "    pass\n",
    "class SingletonOnePhone():\n",
    "    __instance = False\n",
    "    def __init__(self,name, color ):\n",
    "        self.name = name\n",
    "        self.color = color\n",
    "        print(f'color:{self.color} \\n name:{self.name}')\n",
    "    def __new__(cls, name, color):\n",
    "        if cls.__instance:\n",
    "            return cls.__instance\n",
    "        cls.__instance = object.__new__(cls)\n",
    "        return cls.__instance\n",
    "\n",
    "class SingletonOnePhoneI():\n",
    "    def __init__(self,name, color ):\n",
    "        self.name = name\n",
    "        self.color = color\n",
    "        print(f'color:{self.color} \\n name:{self.name}')\n",
    "\n",
    "    def __new__(cls, name, color):\n",
    "        if not hasattr(cls, '_instance'):\n",
    "            cls._instance = object.__new__(cls)\n",
    "        return cls._instance\n",
    "    "
   ]
  },
  {
   "cell_type": "code",
   "execution_count": 43,
   "id": "722cb21a",
   "metadata": {},
   "outputs": [
    {
     "name": "stdout",
     "output_type": "stream",
     "text": [
      "new.....\n",
      "(1, 2)\n",
      "init....\n",
      "(1, 2)\n"
     ]
    }
   ],
   "source": [
    "cls = ShowCls(1,2)"
   ]
  },
  {
   "cell_type": "code",
   "execution_count": 19,
   "id": "151c32fc",
   "metadata": {},
   "outputs": [
    {
     "data": {
      "text/plain": [
       "<__main__.ShowCls at 0x224b2253070>"
      ]
     },
     "execution_count": 19,
     "metadata": {},
     "output_type": "execute_result"
    }
   ],
   "source": [
    "cls"
   ]
  },
  {
   "cell_type": "code",
   "execution_count": null,
   "id": "c1fc1c08",
   "metadata": {},
   "outputs": [],
   "source": [
    "object.__"
   ]
  },
  {
   "cell_type": "code",
   "execution_count": 29,
   "id": "65849434",
   "metadata": {},
   "outputs": [],
   "source": [
    "a = NonSingleton()\n",
    "b = NonSingleton()"
   ]
  },
  {
   "cell_type": "code",
   "execution_count": 30,
   "id": "6687e493",
   "metadata": {},
   "outputs": [
    {
     "data": {
      "text/plain": [
       "2356624286720"
      ]
     },
     "execution_count": 30,
     "metadata": {},
     "output_type": "execute_result"
    }
   ],
   "source": [
    "id(a)"
   ]
  },
  {
   "cell_type": "code",
   "execution_count": 31,
   "id": "6b173e72",
   "metadata": {},
   "outputs": [
    {
     "data": {
      "text/plain": [
       "2356637446096"
      ]
     },
     "execution_count": 31,
     "metadata": {},
     "output_type": "execute_result"
    }
   ],
   "source": [
    "id(b)"
   ]
  },
  {
   "cell_type": "code",
   "execution_count": 58,
   "id": "8bc7a4b9",
   "metadata": {},
   "outputs": [
    {
     "name": "stdout",
     "output_type": "stream",
     "text": [
      "color:red \n",
      " name:aa\n"
     ]
    }
   ],
   "source": [
    "aa = SingletonOnePhone('aa','red')"
   ]
  },
  {
   "cell_type": "code",
   "execution_count": 59,
   "id": "ed0bde4b",
   "metadata": {},
   "outputs": [
    {
     "name": "stdout",
     "output_type": "stream",
     "text": [
      "2356608088672\n"
     ]
    }
   ],
   "source": [
    "print(id(aa))"
   ]
  },
  {
   "cell_type": "code",
   "execution_count": 60,
   "id": "8a504afc",
   "metadata": {},
   "outputs": [
    {
     "name": "stdout",
     "output_type": "stream",
     "text": [
      "color:blue \n",
      " name:bb\n"
     ]
    }
   ],
   "source": [
    "bb = SingletonOnePhone('bb','blue')"
   ]
  },
  {
   "cell_type": "code",
   "execution_count": 61,
   "id": "10dd5556",
   "metadata": {},
   "outputs": [
    {
     "name": "stdout",
     "output_type": "stream",
     "text": [
      "2356608088672\n"
     ]
    }
   ],
   "source": [
    "print(id(bb))"
   ]
  },
  {
   "cell_type": "code",
   "execution_count": 24,
   "id": "2873a92a",
   "metadata": {},
   "outputs": [
    {
     "name": "stdout",
     "output_type": "stream",
     "text": [
      "color:red \n",
      " name:aaa\n"
     ]
    }
   ],
   "source": [
    "aaa = SingletonOnePhoneI('aaa','red')"
   ]
  },
  {
   "cell_type": "code",
   "execution_count": 25,
   "id": "4a46ca51",
   "metadata": {},
   "outputs": [
    {
     "name": "stdout",
     "output_type": "stream",
     "text": [
      "color:blue \n",
      " name:bbb\n"
     ]
    }
   ],
   "source": [
    "bbb = SingletonOnePhoneI('bbb','blue')"
   ]
  },
  {
   "cell_type": "code",
   "execution_count": 26,
   "id": "d2815609",
   "metadata": {},
   "outputs": [
    {
     "name": "stdout",
     "output_type": "stream",
     "text": [
      "2162133563904\n",
      "2162133563904\n"
     ]
    }
   ],
   "source": [
    "print(id(aaa))\n",
    "print(id(bbb))"
   ]
  },
  {
   "cell_type": "code",
   "execution_count": null,
   "id": "d4eb8ec3",
   "metadata": {},
   "outputs": [],
   "source": []
  }
 ],
 "metadata": {
  "kernelspec": {
   "display_name": "Python 3",
   "language": "python",
   "name": "python3"
  },
  "language_info": {
   "codemirror_mode": {
    "name": "ipython",
    "version": 3
   },
   "file_extension": ".py",
   "mimetype": "text/x-python",
   "name": "python",
   "nbconvert_exporter": "python",
   "pygments_lexer": "ipython3",
   "version": "3.8.8"
  }
 },
 "nbformat": 4,
 "nbformat_minor": 5
}
